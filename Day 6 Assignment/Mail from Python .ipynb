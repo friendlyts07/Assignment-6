{
 "cells": [
  {
   "cell_type": "code",
   "execution_count": 1,
   "metadata": {},
   "outputs": [
    {
     "name": "stdout",
     "output_type": "stream",
     "text": [
      "Collecting emails\n",
      "  Downloading emails-0.6-py2.py3-none-any.whl (56 kB)\n",
      "Collecting cssutils\n",
      "  Downloading cssutils-1.0.2-py3-none-any.whl (406 kB)\n",
      "Requirement already satisfied: chardet in c:\\users\\tirth\\anaconda3\\lib\\site-packages (from emails) (3.0.4)\n",
      "Requirement already satisfied: requests in c:\\users\\tirth\\anaconda3\\lib\\site-packages (from emails) (2.22.0)\n",
      "Collecting premailer\n",
      "  Downloading premailer-3.7.0-py2.py3-none-any.whl (18 kB)\n",
      "Requirement already satisfied: python-dateutil in c:\\users\\tirth\\anaconda3\\lib\\site-packages (from emails) (2.8.1)\n",
      "Requirement already satisfied: lxml in c:\\users\\tirth\\anaconda3\\lib\\site-packages (from emails) (4.5.0)\n",
      "Requirement already satisfied: certifi>=2017.4.17 in c:\\users\\tirth\\anaconda3\\lib\\site-packages (from requests->emails) (2019.11.28)\n",
      "Requirement already satisfied: urllib3!=1.25.0,!=1.25.1,<1.26,>=1.21.1 in c:\\users\\tirth\\anaconda3\\lib\\site-packages (from requests->emails) (1.25.8)\n",
      "Requirement already satisfied: idna<2.9,>=2.5 in c:\\users\\tirth\\anaconda3\\lib\\site-packages (from requests->emails) (2.8)\n",
      "Collecting cssselect\n",
      "  Downloading cssselect-1.1.0-py2.py3-none-any.whl (16 kB)\n",
      "Collecting cachetools\n",
      "  Downloading cachetools-4.2.0-py3-none-any.whl (12 kB)\n",
      "Requirement already satisfied: six>=1.5 in c:\\users\\tirth\\anaconda3\\lib\\site-packages (from python-dateutil->emails) (1.14.0)\n",
      "Installing collected packages: cssutils, cssselect, cachetools, premailer, emails\n",
      "Successfully installed cachetools-4.2.0 cssselect-1.1.0 cssutils-1.0.2 emails-0.6 premailer-3.7.0\n"
     ]
    }
   ],
   "source": [
    "!pip install emails"
   ]
  },
  {
   "cell_type": "code",
   "execution_count": 14,
   "metadata": {},
   "outputs": [
    {
     "name": "stdout",
     "output_type": "stream",
     "text": [
      "Requirement already satisfied: emails in c:\\users\\tirth\\anaconda3\\lib\\site-packages (0.6)\n",
      "Requirement already satisfied: cssutils in c:\\users\\tirth\\anaconda3\\lib\\site-packages (from emails) (1.0.2)\n",
      "Requirement already satisfied: premailer in c:\\users\\tirth\\anaconda3\\lib\\site-packages (from emails) (3.7.0)\n",
      "Requirement already satisfied: lxml in c:\\users\\tirth\\anaconda3\\lib\\site-packages (from emails) (4.5.0)\n",
      "Requirement already satisfied: chardet in c:\\users\\tirth\\anaconda3\\lib\\site-packages (from emails) (3.0.4)\n",
      "Requirement already satisfied: requests in c:\\users\\tirth\\anaconda3\\lib\\site-packages (from emails) (2.22.0)\n",
      "Requirement already satisfied: python-dateutil in c:\\users\\tirth\\anaconda3\\lib\\site-packages (from emails) (2.8.1)\n",
      "Requirement already satisfied: cssselect in c:\\users\\tirth\\anaconda3\\lib\\site-packages (from premailer->emails) (1.1.0)\n",
      "Requirement already satisfied: cachetools in c:\\users\\tirth\\anaconda3\\lib\\site-packages (from premailer->emails) (4.2.0)\n",
      "Requirement already satisfied: certifi>=2017.4.17 in c:\\users\\tirth\\anaconda3\\lib\\site-packages (from requests->emails) (2019.11.28)\n",
      "Requirement already satisfied: idna<2.9,>=2.5 in c:\\users\\tirth\\anaconda3\\lib\\site-packages (from requests->emails) (2.8)\n",
      "Requirement already satisfied: urllib3!=1.25.0,!=1.25.1,<1.26,>=1.21.1 in c:\\users\\tirth\\anaconda3\\lib\\site-packages (from requests->emails) (1.25.8)\n",
      "Requirement already satisfied: six>=1.5 in c:\\users\\tirth\\anaconda3\\lib\\site-packages (from python-dateutil->emails) (1.14.0)\n"
     ]
    }
   ],
   "source": [
    "!pip install emails"
   ]
  },
  {
   "cell_type": "code",
   "execution_count": 15,
   "metadata": {},
   "outputs": [],
   "source": [
    "import emails"
   ]
  },
  {
   "cell_type": "code",
   "execution_count": 18,
   "metadata": {},
   "outputs": [],
   "source": [
    "html_text ='''<html>\n",
    "\n",
    "             <head>\n",
    "             <meta charset=\"utf-8\">\n",
    "             <meta name=\"viewport\" content=\"width=device-width, initial-scale=1.0\">\n",
    "             <title></title>\n",
    "             </head>\n",
    "\n",
    "             <body style=\"color: rgb(0, 0, 0); background-color: rgb(49, 175, 40);\">\n",
    "             <p>Hello Everyone😊,</p>\n",
    "             <p>Tirth Shah your classmate is Here.</p>\n",
    "             <p>Hope you all are fine. How are your studies going on and do you like the subject you have taken? I am not mailing this to you to ask such question it was just a fun. I have learned a project that how can we send mail using python. So for checking purpose i am sending this mail.</p>\n",
    "             <p>I know i have returned that the message will contain some special message and the special message is Don&apos;t be sad when you fail because failure is the key to success. Hope you all like it&nbsp;</p>\n",
    "             <p><strong>Tirth Shah</strong></p>\n",
    "             <p><strong>8000914488</strong></p>\n",
    "             <p><br></p>\n",
    "             <p><br></p>\n",
    "             <p><br></p>\n",
    "             </body>\n",
    "\n",
    "             </html>'''\n",
    "message = emails.html(html=html_text,\n",
    "                          subject=\"Email from python\",\n",
    "                          mail_from=('Secret Superstar', 'sai@xyz.com'))"
   ]
  },
  {
   "cell_type": "code",
   "execution_count": 19,
   "metadata": {},
   "outputs": [],
   "source": [
    "mail_via_python = message.send(to='shahti42@gmail.com', \n",
    "                               smtp={'host': 'smtp.gmail.com', \n",
    "                                     'timeout': 5,\n",
    "                                    'port':587,\n",
    "                                    'user':'tirthshah180140111098@gmail.com',\n",
    "                                    'password':'Dadabhagwan@123',\n",
    "                                    'tls':True})"
   ]
  },
  {
   "cell_type": "code",
   "execution_count": 20,
   "metadata": {},
   "outputs": [
    {
     "data": {
      "text/plain": [
       "250"
      ]
     },
     "execution_count": 20,
     "metadata": {},
     "output_type": "execute_result"
    }
   ],
   "source": [
    "mail_via_python.status_code"
   ]
  },
  {
   "cell_type": "code",
   "execution_count": 26,
   "metadata": {},
   "outputs": [],
   "source": [
    "def personalemails(email):\n",
    "    html_text ='''<html>\n",
    "\n",
    "                  <head>\n",
    "                  <meta charset=\"utf-8\">\n",
    "                  <meta name=\"viewport\" content=\"width=device-width, initial-scale=1.0\">\n",
    "                  <title></title>\n",
    "                  </head>\n",
    "\n",
    "                  <body style=\"color: rgb(0, 0, 0); background-color: rgb(49, 175, 40);\">\n",
    "                  <p>Hello Everyone😊,</p>\n",
    "                  <p>Tirth Shah your classmate is Here.</p>\n",
    "                  <p>Hope you all are fine. How are your studies going on and do you like the subject you have taken? I am not mailing this to you to ask such question it was just a fun. I have learned a project that how can we send mail using python. So for checking purpose i am sending this mail.</p>\n",
    "                  <p>I know i have returned that the message will contain some special message and the special message is Don&apos;t be sad when you fail because failure is the key to success. Hope you all like it&nbsp;</p>\n",
    "                  <p><strong>Tirth Shah</strong></p>\n",
    "                  <p><strong>8000914488</strong></p>\n",
    "                  <p><br></p>\n",
    "                  <p><br></p>\n",
    "                  <p><br></p>\n",
    "                  </body>\n",
    "\n",
    "                  </html>'''\n",
    "    message = emails.html(html=html_text,\n",
    "                          subject=\"Email from python\",\n",
    "                          mail_from=('Secret Superstar', 'sai@xyz.com'))\n",
    "    mail_via_python = message.send(to=email, \n",
    "                               smtp={'host': 'smtp.gmail.com', \n",
    "                                     'timeout': 5,\n",
    "                                    'port':587,\n",
    "                                    'user':'youremail',\n",
    "                                    'password':'youremailpas',\n",
    "                                    'tls':True})\n",
    "    return mail_via_python.status_code\n",
    "\n",
    "    "
   ]
  },
  {
   "cell_type": "code",
   "execution_count": 30,
   "metadata": {},
   "outputs": [
    {
     "data": {
      "text/plain": [
       "250"
      ]
     },
     "execution_count": 30,
     "metadata": {},
     "output_type": "execute_result"
    }
   ],
   "source": [
    "personalemails(\"machhisudha11111@gmail.com\")"
   ]
  },
  {
   "cell_type": "code",
   "execution_count": 31,
   "metadata": {},
   "outputs": [
    {
     "data": {
      "text/plain": [
       "250"
      ]
     },
     "execution_count": 31,
     "metadata": {},
     "output_type": "execute_result"
    }
   ],
   "source": [
    "personalemails(\"bhagatmanan2@gmail.com\")"
   ]
  },
  {
   "cell_type": "code",
   "execution_count": 32,
   "metadata": {},
   "outputs": [
    {
     "data": {
      "text/plain": [
       "250"
      ]
     },
     "execution_count": 32,
     "metadata": {},
     "output_type": "execute_result"
    }
   ],
   "source": [
    "personalemails(\"ranarutvik100@gmail.com\")"
   ]
  },
  {
   "cell_type": "code",
   "execution_count": 33,
   "metadata": {},
   "outputs": [
    {
     "data": {
      "text/plain": [
       "250"
      ]
     },
     "execution_count": 33,
     "metadata": {},
     "output_type": "execute_result"
    }
   ],
   "source": [
    "personalemails(\"kishlayshah21102000@gmail.com\")"
   ]
  },
  {
   "cell_type": "code",
   "execution_count": 34,
   "metadata": {},
   "outputs": [
    {
     "data": {
      "text/plain": [
       "250"
      ]
     },
     "execution_count": 34,
     "metadata": {},
     "output_type": "execute_result"
    }
   ],
   "source": [
    "personalemails(\"deepvaikunth05@gmail.com\")"
   ]
  },
  {
   "cell_type": "code",
   "execution_count": 35,
   "metadata": {},
   "outputs": [
    {
     "data": {
      "text/plain": [
       "250"
      ]
     },
     "execution_count": 35,
     "metadata": {},
     "output_type": "execute_result"
    }
   ],
   "source": [
    "personalemails(\"vss11101995@gmail.com\")"
   ]
  },
  {
   "cell_type": "code",
   "execution_count": 36,
   "metadata": {},
   "outputs": [
    {
     "data": {
      "text/plain": [
       "250"
      ]
     },
     "execution_count": 36,
     "metadata": {},
     "output_type": "execute_result"
    }
   ],
   "source": [
    "personalemails(\"sonalashu2000@gmail.com\")"
   ]
  },
  {
   "cell_type": "code",
   "execution_count": 37,
   "metadata": {},
   "outputs": [
    {
     "data": {
      "text/plain": [
       "250"
      ]
     },
     "execution_count": 37,
     "metadata": {},
     "output_type": "execute_result"
    }
   ],
   "source": [
    "personalemails(\"dhvanichampaneri5@gmail.com\")"
   ]
  },
  {
   "cell_type": "code",
   "execution_count": 38,
   "metadata": {},
   "outputs": [
    {
     "data": {
      "text/plain": [
       "250"
      ]
     },
     "execution_count": 38,
     "metadata": {},
     "output_type": "execute_result"
    }
   ],
   "source": [
    "personalemails(\"sharmashivani85307@gmail.com\")"
   ]
  },
  {
   "cell_type": "code",
   "execution_count": 39,
   "metadata": {},
   "outputs": [
    {
     "data": {
      "text/plain": [
       "250"
      ]
     },
     "execution_count": 39,
     "metadata": {},
     "output_type": "execute_result"
    }
   ],
   "source": [
    "personalemails(\"shivammishra1013@gmail.com\")"
   ]
  },
  {
   "cell_type": "code",
   "execution_count": 40,
   "metadata": {},
   "outputs": [
    {
     "data": {
      "text/plain": [
       "250"
      ]
     },
     "execution_count": 40,
     "metadata": {},
     "output_type": "execute_result"
    }
   ],
   "source": [
    "personalemails(\"mohansuryavanshi1999@gmail.com\")"
   ]
  },
  {
   "cell_type": "code",
   "execution_count": 41,
   "metadata": {},
   "outputs": [
    {
     "data": {
      "text/plain": [
       "250"
      ]
     },
     "execution_count": 41,
     "metadata": {},
     "output_type": "execute_result"
    }
   ],
   "source": [
    "personalemails(\"ashu12345ti@gmail.com\")"
   ]
  },
  {
   "cell_type": "code",
   "execution_count": 42,
   "metadata": {},
   "outputs": [
    {
     "data": {
      "text/plain": [
       "250"
      ]
     },
     "execution_count": 42,
     "metadata": {},
     "output_type": "execute_result"
    }
   ],
   "source": [
    "personalemails(\"jaypatel180140111061@gmail.com\")"
   ]
  },
  {
   "cell_type": "code",
   "execution_count": null,
   "metadata": {},
   "outputs": [],
   "source": []
  }
 ],
 "metadata": {
  "kernelspec": {
   "display_name": "Python 3",
   "language": "python",
   "name": "python3"
  },
  "language_info": {
   "codemirror_mode": {
    "name": "ipython",
    "version": 3
   },
   "file_extension": ".py",
   "mimetype": "text/x-python",
   "name": "python",
   "nbconvert_exporter": "python",
   "pygments_lexer": "ipython3",
   "version": "3.7.6"
  }
 },
 "nbformat": 4,
 "nbformat_minor": 4
}
